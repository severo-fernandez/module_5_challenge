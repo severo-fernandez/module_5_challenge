{
 "cells": [
  {
   "cell_type": "markdown",
   "metadata": {},
   "source": [
    "# Financial Planning with APIs and Simulations\n",
    "\n",
    "In this Challenge, you’ll create two financial analysis tools by using a single Jupyter notebook:\n",
    "\n",
    "Part 1: A financial planner for emergencies. The members will be able to use this tool to visualize their current savings. The members can then determine if they have enough reserves for an emergency fund.\n",
    "\n",
    "Part 2: A financial planner for retirement. This tool will forecast the performance of their retirement portfolio in 30 years. To do this, the tool will make an Alpaca API call via the Alpaca SDK to get historical price data for use in Monte Carlo simulations.\n",
    "\n",
    "You’ll use the information from the Monte Carlo simulation to answer questions about the portfolio in your Jupyter notebook.\n",
    "\n"
   ]
  },
  {
   "cell_type": "code",
   "execution_count": 1,
   "metadata": {},
   "outputs": [],
   "source": [
    "# Import the required libraries and dependencies\n",
    "import os\n",
    "import requests\n",
    "import json\n",
    "import pandas as pd\n",
    "from dotenv import load_dotenv\n",
    "import alpaca_trade_api as tradeapi\n",
    "from MCForecastTools import MCSimulation\n",
    "\n",
    "%matplotlib inline"
   ]
  },
  {
   "cell_type": "code",
   "execution_count": 2,
   "metadata": {},
   "outputs": [
    {
     "data": {
      "text/plain": [
       "True"
      ]
     },
     "execution_count": 2,
     "metadata": {},
     "output_type": "execute_result"
    }
   ],
   "source": [
    "# Load the environment variables from the .env file\n",
    "#by calling the load_dotenv function\n",
    "load_dotenv()"
   ]
  },
  {
   "cell_type": "markdown",
   "metadata": {},
   "source": [
    "## Part 1: Create a Financial Planner for Emergencies"
   ]
  },
  {
   "cell_type": "markdown",
   "metadata": {},
   "source": [
    "### Evaluate the Cryptocurrency Wallet by Using the Requests Library\n",
    "\n",
    "In this section, you’ll determine the current value of a member’s cryptocurrency wallet. You’ll collect the current prices for the Bitcoin and Ethereum cryptocurrencies by using the Python Requests library. For the prototype, you’ll assume that the member holds the 1.2 Bitcoins (BTC) and 5.3 Ethereum coins (ETH). To do all this, complete the following steps:\n",
    "\n",
    "1. Create a variable named `monthly_income`, and set its value to `12000`.\n",
    "\n",
    "2. Use the Requests library to get the current price (in US dollars) of Bitcoin (BTC) and Ethereum (ETH) by using the API endpoints that the starter code supplies.\n",
    "\n",
    "3. Navigate the JSON response object to access the current price of each coin, and store each in a variable.\n",
    "\n",
    "    > **Hint** Note the specific identifier for each cryptocurrency in the API JSON response. The Bitcoin identifier is `1`, and the Ethereum identifier is `1027`.\n",
    "\n",
    "4. Calculate the value, in US dollars, of the current amount of each cryptocurrency and of the entire cryptocurrency wallet.\n",
    "\n"
   ]
  },
  {
   "cell_type": "code",
   "execution_count": 3,
   "metadata": {},
   "outputs": [],
   "source": [
    "# The current number of coins for each cryptocurrency asset held in the portfolio.\n",
    "btc_coins = 1.2\n",
    "eth_coins = 5.3"
   ]
  },
  {
   "cell_type": "markdown",
   "metadata": {},
   "source": [
    "#### Step 1: Create a variable named `monthly_income`, and set its value to `12000`."
   ]
  },
  {
   "cell_type": "code",
   "execution_count": 4,
   "metadata": {},
   "outputs": [],
   "source": [
    "# The monthly amount for the member's household income\n",
    "monthly_income = 12000\n"
   ]
  },
  {
   "cell_type": "markdown",
   "metadata": {},
   "source": [
    "#### Review the endpoint URLs for the API calls to Free Crypto API in order to get the current pricing information for both BTC and ETH."
   ]
  },
  {
   "cell_type": "code",
   "execution_count": 5,
   "metadata": {},
   "outputs": [],
   "source": [
    "# The Free Crypto API Call endpoint URLs for the held cryptocurrency assets\n",
    "btc_url = \"https://api.alternative.me/v2/ticker/Bitcoin/?convert=USD\"\n",
    "eth_url = \"https://api.alternative.me/v2/ticker/Ethereum/?convert=USD\""
   ]
  },
  {
   "cell_type": "markdown",
   "metadata": {},
   "source": [
    "#### Step 2. Use the Requests library to get the current price (in US dollars) of Bitcoin (BTC) and Ethereum (ETH) by using the API endpoints that the starter code supplied."
   ]
  },
  {
   "cell_type": "code",
   "execution_count": 6,
   "metadata": {},
   "outputs": [
    {
     "name": "stdout",
     "output_type": "stream",
     "text": [
      "{\n",
      "    \"data\": {\n",
      "        \"1\": {\n",
      "            \"circulating_supply\": 19041943,\n",
      "            \"id\": 1,\n",
      "            \"last_updated\": 1652752747,\n",
      "            \"max_supply\": 21000000,\n",
      "            \"name\": \"Bitcoin\",\n",
      "            \"quotes\": {\n",
      "                \"USD\": {\n",
      "                    \"market_cap\": 569804748958,\n",
      "                    \"percent_change_1h\": -0.598355051109877,\n",
      "                    \"percent_change_24h\": -2.46634389748137,\n",
      "                    \"percent_change_7d\": -0.844059663029715,\n",
      "                    \"percentage_change_1h\": -0.598355051109877,\n",
      "                    \"percentage_change_24h\": -2.46634389748137,\n",
      "                    \"percentage_change_7d\": -0.844059663029715,\n",
      "                    \"price\": 30014.0,\n",
      "                    \"volume_24h\": 28383173590\n",
      "                }\n",
      "            },\n",
      "            \"rank\": 1,\n",
      "            \"symbol\": \"BTC\",\n",
      "            \"total_supply\": 19041943,\n",
      "            \"website_slug\": \"bitcoin\"\n",
      "        }\n",
      "    },\n",
      "    \"metadata\": {\n",
      "        \"error\": null,\n",
      "        \"num_cryptocurrencies\": 3106,\n",
      "        \"timestamp\": 1652752747\n",
      "    }\n",
      "}\n"
     ]
    }
   ],
   "source": [
    "# Using the Python requests library, make an API call to access the current price of BTC\n",
    "btc_response = requests.get(btc_url).json()\n",
    "\n",
    "# Use the json.dumps function to review the response data from the API call\n",
    "# Use the indent and sort_keys parameters to make the response object readable\n",
    "print(json.dumps(btc_response, indent=4, sort_keys=True))\n"
   ]
  },
  {
   "cell_type": "code",
   "execution_count": 7,
   "metadata": {},
   "outputs": [
    {
     "name": "stdout",
     "output_type": "stream",
     "text": [
      "{\n",
      "    \"data\": {\n",
      "        \"1027\": {\n",
      "            \"circulating_supply\": 120808200,\n",
      "            \"id\": 1027,\n",
      "            \"last_updated\": 1652752719,\n",
      "            \"max_supply\": 0,\n",
      "            \"name\": \"Ethereum\",\n",
      "            \"quotes\": {\n",
      "                \"USD\": {\n",
      "                    \"market_cap\": 245902808725,\n",
      "                    \"percent_change_1h\": -0.608013867419675,\n",
      "                    \"percent_change_24h\": -2.75485799776729,\n",
      "                    \"percent_change_7d\": -9.36895455823222,\n",
      "                    \"percentage_change_1h\": -0.608013867419675,\n",
      "                    \"percentage_change_24h\": -2.75485799776729,\n",
      "                    \"percentage_change_7d\": -9.36895455823222,\n",
      "                    \"price\": 2039.1,\n",
      "                    \"volume_24h\": 20006442358\n",
      "                }\n",
      "            },\n",
      "            \"rank\": 2,\n",
      "            \"symbol\": \"ETH\",\n",
      "            \"total_supply\": 120808200,\n",
      "            \"website_slug\": \"ethereum\"\n",
      "        }\n",
      "    },\n",
      "    \"metadata\": {\n",
      "        \"error\": null,\n",
      "        \"num_cryptocurrencies\": 3106,\n",
      "        \"timestamp\": 1652752719\n",
      "    }\n",
      "}\n"
     ]
    }
   ],
   "source": [
    "# Using the Python requests library, make an API call to access the current price ETH\n",
    "eth_response = requests.get(eth_url).json()\n",
    "\n",
    "# Use the json.dumps function to review the response data from the API call\n",
    "# Use the indent and sort_keys parameters to make the response object readable\n",
    "print(json.dumps(eth_response, indent=4, sort_keys=True))\n"
   ]
  },
  {
   "cell_type": "markdown",
   "metadata": {},
   "source": [
    "#### Step 3: Navigate the JSON response object to access the current price of each coin, and store each in a variable."
   ]
  },
  {
   "cell_type": "code",
   "execution_count": 8,
   "metadata": {},
   "outputs": [
    {
     "name": "stdout",
     "output_type": "stream",
     "text": [
      "The current price of 1 BTC in USD is $30014.00.\n"
     ]
    }
   ],
   "source": [
    "# Navigate the BTC response object to access the current price of BTC\n",
    "btc_price = btc_response['data']['1']['quotes']['USD']['price']\n",
    "\n",
    "# Print the current price of BTC\n",
    "print(f'The current price of 1 BTC in USD is ${btc_price:.2f}.')\n"
   ]
  },
  {
   "cell_type": "code",
   "execution_count": 9,
   "metadata": {},
   "outputs": [
    {
     "name": "stdout",
     "output_type": "stream",
     "text": [
      "The current price of 1 ETH in USD is $2039.10.\n"
     ]
    }
   ],
   "source": [
    "# Navigate the BTC response object to access the current price of ETH\n",
    "eth_price = eth_response['data']['1027']['quotes']['USD']['price']\n",
    "\n",
    "# Print the current price of ETH\n",
    "print(f'The current price of 1 ETH in USD is ${eth_price:.2f}.')\n"
   ]
  },
  {
   "cell_type": "markdown",
   "metadata": {},
   "source": [
    "### Step 4: Calculate the value, in US dollars, of the current amount of each cryptocurrency and of the entire cryptocurrency wallet."
   ]
  },
  {
   "cell_type": "code",
   "execution_count": 10,
   "metadata": {},
   "outputs": [
    {
     "name": "stdout",
     "output_type": "stream",
     "text": [
      "You have 1.2 and at a current price of $30014.00, your current BTC portfolio is equal to $36016.80.\n"
     ]
    }
   ],
   "source": [
    "# Compute the current value of the BTC holding \n",
    "btc_value = btc_coins * btc_price\n",
    "\n",
    "# Print current value of your holding in BTC\n",
    "print(f'You have {btc_coins} and at a current price of ${btc_price:.2f}, your current BTC portfolio is equal to ${btc_value:.2f}.')\n"
   ]
  },
  {
   "cell_type": "code",
   "execution_count": 11,
   "metadata": {},
   "outputs": [
    {
     "name": "stdout",
     "output_type": "stream",
     "text": [
      "You have 5.3 and at a current price of $2039.10, your current ETH portfolio is equal to $10807.23.\n"
     ]
    }
   ],
   "source": [
    "# Compute the current value of the ETH holding \n",
    "eth_value =eth_coins * eth_price\n",
    "# Print current value of your holding in ETH\n",
    "print(f'You have {eth_coins} and at a current price of ${eth_price:.2f}, your current ETH portfolio is equal to ${eth_value:.2f}.')"
   ]
  },
  {
   "cell_type": "code",
   "execution_count": 12,
   "metadata": {},
   "outputs": [
    {
     "name": "stdout",
     "output_type": "stream",
     "text": [
      "Your total cryptocurrency wallet balance is $46824.03.\n"
     ]
    }
   ],
   "source": [
    "# Compute the total value of the cryptocurrency wallet\n",
    "# Add the value of the BTC holding to the value of the ETH holding\n",
    "total_crypto_wallet = btc_value + eth_value\n",
    "\n",
    "# Print current cryptocurrency wallet balance\n",
    "print(f'Your total cryptocurrency wallet balance is ${total_crypto_wallet:.2f}.')\n"
   ]
  },
  {
   "cell_type": "markdown",
   "metadata": {},
   "source": [
    "### Evaluate the Stock and Bond Holdings by Using the Alpaca SDK\n",
    "\n",
    "In this section, you’ll determine the current value of a member’s stock and bond holdings. You’ll make an API call to Alpaca via the Alpaca SDK to get the current closing prices of the SPDR S&P 500 ETF Trust (ticker: SPY) and of the iShares Core US Aggregate Bond ETF (ticker: AGG). For the prototype, assume that the member holds 110 shares of SPY, which represents the stock portion of their portfolio, and 200 shares of AGG, which represents the bond portion. To do all this, complete the following steps:\n",
    "\n",
    "1. In the `Starter_Code` folder, create an environment file (`.env`) to store the values of your Alpaca API key and Alpaca secret key.\n",
    "\n",
    "2. Set the variables for the Alpaca API and secret keys. Using the Alpaca SDK, create the Alpaca `tradeapi.REST` object. In this object, include the parameters for the Alpaca API key, the secret key, and the version number.\n",
    "\n",
    "3. Set the following parameters for the Alpaca API call:\n",
    "\n",
    "    - `tickers`: Use the tickers for the member’s stock and bond holdings.\n",
    "\n",
    "    - `timeframe`: Use a time frame of one day.\n",
    "\n",
    "    - `start_date` and `end_date`: Use the same date for these parameters, and format them with the date of the previous weekday (or `2020-08-07`). This is because you want the one closing price for the most-recent trading day.\n",
    "\n",
    "4. Get the current closing prices for `SPY` and `AGG` by using the Alpaca `get_bars` function. Format the response as a Pandas DataFrame by including the `df` property at the end of the `get_bars` function.\n",
    "\n",
    "5. Navigating the Alpaca response DataFrame, select the `SPY` and `AGG` closing prices, and store them as variables.\n",
    "\n",
    "6. Calculate the value, in US dollars, of the current amount of shares in each of the stock and bond portions of the portfolio, and print the results.\n"
   ]
  },
  {
   "cell_type": "markdown",
   "metadata": {},
   "source": [
    "#### Review the total number of shares held in both (SPY) and (AGG)."
   ]
  },
  {
   "cell_type": "code",
   "execution_count": 13,
   "metadata": {},
   "outputs": [],
   "source": [
    "# Current amount of shares held in both the stock (SPY) and bond (AGG) portion of the portfolio.\n",
    "spy_shares = 110\n",
    "agg_shares = 200\n"
   ]
  },
  {
   "cell_type": "markdown",
   "metadata": {},
   "source": [
    "#### Step 1: In the `Starter_Code` folder, create an environment file (`.env`) to store the values of your Alpaca API key and Alpaca secret key."
   ]
  },
  {
   "cell_type": "markdown",
   "metadata": {},
   "source": [
    "#### Step 2: Set the variables for the Alpaca API and secret keys. Using the Alpaca SDK, create the Alpaca `tradeapi.REST` object. In this object, include the parameters for the Alpaca API key, the secret key, and the version number."
   ]
  },
  {
   "cell_type": "code",
   "execution_count": 14,
   "metadata": {},
   "outputs": [
    {
     "name": "stdout",
     "output_type": "stream",
     "text": [
      "<class 'str'> <class 'str'>\n"
     ]
    }
   ],
   "source": [
    "# Set the variables for the Alpaca API and secret keys\n",
    "alpaca_api_key = os.getenv('ALPACA_API_KEY')\n",
    "alpaca_secret_key = os.getenv('ALPACA_SECRET_KEY')\n",
    "\n",
    "print(type(alpaca_api_key),type(alpaca_secret_key))"
   ]
  },
  {
   "cell_type": "code",
   "execution_count": 15,
   "metadata": {},
   "outputs": [],
   "source": [
    "# Create the Alpaca tradeapi.REST object\n",
    "alpaca = tradeapi.REST(\n",
    "    alpaca_api_key,\n",
    "    alpaca_secret_key,\n",
    "    api_version='v2')"
   ]
  },
  {
   "cell_type": "markdown",
   "metadata": {},
   "source": [
    "#### Step 3: Set the following parameters for the Alpaca API call:\n",
    "\n",
    "- `tickers`: Use the tickers for the member’s stock and bond holdings.\n",
    "\n",
    "- `timeframe`: Use a time frame of one day.\n",
    "\n",
    "- `start_date` and `end_date`: Use the same date for these parameters, and format them with the date of the previous weekday (or `2020-08-07`). This is because you want the one closing price for the most-recent trading day.\n"
   ]
  },
  {
   "cell_type": "code",
   "execution_count": 16,
   "metadata": {},
   "outputs": [],
   "source": [
    "# Set the tickers for both the bond and stock portion of the portfolio\n",
    "tickers = ['SPY', 'AGG']\n",
    "\n",
    "# Set timeframe to 1Day\n",
    "timeframe = '1Day'\n",
    "\n",
    "# Format current date as ISO format\n",
    "# Set both the start and end date at the date of your prior weekday \n",
    "# This will give you the closing price of the previous trading day\n",
    "# Alternatively you can use a start and end date of 2020-08-07\n",
    "start_date = pd.Timestamp('2020-05-13',tz='America/New_York').isoformat()\n",
    "end_date = pd.Timestamp('2020-05-13', tz='America/New_York').isoformat()\n"
   ]
  },
  {
   "cell_type": "markdown",
   "metadata": {},
   "source": [
    "#### Step 4: Get the current closing prices for `SPY` and `AGG` by using the Alpaca `get_bars` function. Format the response as a Pandas DataFrame by including the `df` property at the end of the `get_bars` function."
   ]
  },
  {
   "cell_type": "code",
   "execution_count": 17,
   "metadata": {},
   "outputs": [
    {
     "data": {
      "text/html": [
       "<div>\n",
       "<style scoped>\n",
       "    .dataframe tbody tr th:only-of-type {\n",
       "        vertical-align: middle;\n",
       "    }\n",
       "\n",
       "    .dataframe tbody tr th {\n",
       "        vertical-align: top;\n",
       "    }\n",
       "\n",
       "    .dataframe thead th {\n",
       "        text-align: right;\n",
       "    }\n",
       "</style>\n",
       "<table border=\"1\" class=\"dataframe\">\n",
       "  <thead>\n",
       "    <tr style=\"text-align: right;\">\n",
       "      <th></th>\n",
       "      <th>open</th>\n",
       "      <th>high</th>\n",
       "      <th>low</th>\n",
       "      <th>close</th>\n",
       "      <th>volume</th>\n",
       "      <th>trade_count</th>\n",
       "      <th>vwap</th>\n",
       "      <th>symbol</th>\n",
       "    </tr>\n",
       "    <tr>\n",
       "      <th>timestamp</th>\n",
       "      <th></th>\n",
       "      <th></th>\n",
       "      <th></th>\n",
       "      <th></th>\n",
       "      <th></th>\n",
       "      <th></th>\n",
       "      <th></th>\n",
       "      <th></th>\n",
       "    </tr>\n",
       "  </thead>\n",
       "  <tbody>\n",
       "    <tr>\n",
       "      <th>2020-05-13 04:00:00+00:00</th>\n",
       "      <td>116.63</td>\n",
       "      <td>116.76</td>\n",
       "      <td>116.450</td>\n",
       "      <td>116.6</td>\n",
       "      <td>4425927</td>\n",
       "      <td>16375</td>\n",
       "      <td>116.647726</td>\n",
       "      <td>AGG</td>\n",
       "    </tr>\n",
       "    <tr>\n",
       "      <th>2020-05-13 04:00:00+00:00</th>\n",
       "      <td>285.95</td>\n",
       "      <td>287.19</td>\n",
       "      <td>278.965</td>\n",
       "      <td>281.6</td>\n",
       "      <td>144809899</td>\n",
       "      <td>833463</td>\n",
       "      <td>282.592780</td>\n",
       "      <td>SPY</td>\n",
       "    </tr>\n",
       "  </tbody>\n",
       "</table>\n",
       "</div>"
      ],
      "text/plain": [
       "                             open    high      low  close     volume  \\\n",
       "timestamp                                                              \n",
       "2020-05-13 04:00:00+00:00  116.63  116.76  116.450  116.6    4425927   \n",
       "2020-05-13 04:00:00+00:00  285.95  287.19  278.965  281.6  144809899   \n",
       "\n",
       "                           trade_count        vwap symbol  \n",
       "timestamp                                                  \n",
       "2020-05-13 04:00:00+00:00        16375  116.647726    AGG  \n",
       "2020-05-13 04:00:00+00:00       833463  282.592780    SPY  "
      ]
     },
     "execution_count": 17,
     "metadata": {},
     "output_type": "execute_result"
    }
   ],
   "source": [
    "# Use the Alpaca get_bars function to get current closing prices the portfolio\n",
    "# Be sure to set the `df` property after the function to format the response object as a DataFrame\n",
    "prices_df = alpaca.get_bars(\n",
    "    tickers,\n",
    "    timeframe,\n",
    "    start=start_date,\n",
    "    end=end_date\n",
    ").df\n",
    "\n",
    "prices_df.head()"
   ]
  },
  {
   "cell_type": "code",
   "execution_count": 20,
   "metadata": {},
   "outputs": [
    {
     "data": {
      "text/html": [
       "<div>\n",
       "<style scoped>\n",
       "    .dataframe tbody tr th:only-of-type {\n",
       "        vertical-align: middle;\n",
       "    }\n",
       "\n",
       "    .dataframe tbody tr th {\n",
       "        vertical-align: top;\n",
       "    }\n",
       "\n",
       "    .dataframe thead th {\n",
       "        text-align: right;\n",
       "    }\n",
       "</style>\n",
       "<table border=\"1\" class=\"dataframe\">\n",
       "  <thead>\n",
       "    <tr style=\"text-align: right;\">\n",
       "      <th></th>\n",
       "      <th>open</th>\n",
       "      <th>high</th>\n",
       "      <th>low</th>\n",
       "      <th>close</th>\n",
       "      <th>volume</th>\n",
       "      <th>trade_count</th>\n",
       "      <th>vwap</th>\n",
       "    </tr>\n",
       "    <tr>\n",
       "      <th>timestamp</th>\n",
       "      <th></th>\n",
       "      <th></th>\n",
       "      <th></th>\n",
       "      <th></th>\n",
       "      <th></th>\n",
       "      <th></th>\n",
       "      <th></th>\n",
       "    </tr>\n",
       "  </thead>\n",
       "  <tbody>\n",
       "    <tr>\n",
       "      <th>2020-05-13 04:00:00+00:00</th>\n",
       "      <td>116.63</td>\n",
       "      <td>116.76</td>\n",
       "      <td>116.45</td>\n",
       "      <td>116.6</td>\n",
       "      <td>4425927</td>\n",
       "      <td>16375</td>\n",
       "      <td>116.647726</td>\n",
       "    </tr>\n",
       "  </tbody>\n",
       "</table>\n",
       "</div>"
      ],
      "text/plain": [
       "                             open    high     low  close   volume  \\\n",
       "timestamp                                                           \n",
       "2020-05-13 04:00:00+00:00  116.63  116.76  116.45  116.6  4425927   \n",
       "\n",
       "                           trade_count        vwap  \n",
       "timestamp                                           \n",
       "2020-05-13 04:00:00+00:00        16375  116.647726  "
      ]
     },
     "metadata": {},
     "output_type": "display_data"
    },
    {
     "data": {
      "text/html": [
       "<div>\n",
       "<style scoped>\n",
       "    .dataframe tbody tr th:only-of-type {\n",
       "        vertical-align: middle;\n",
       "    }\n",
       "\n",
       "    .dataframe tbody tr th {\n",
       "        vertical-align: top;\n",
       "    }\n",
       "\n",
       "    .dataframe thead th {\n",
       "        text-align: right;\n",
       "    }\n",
       "</style>\n",
       "<table border=\"1\" class=\"dataframe\">\n",
       "  <thead>\n",
       "    <tr style=\"text-align: right;\">\n",
       "      <th></th>\n",
       "      <th>open</th>\n",
       "      <th>high</th>\n",
       "      <th>low</th>\n",
       "      <th>close</th>\n",
       "      <th>volume</th>\n",
       "      <th>trade_count</th>\n",
       "      <th>vwap</th>\n",
       "    </tr>\n",
       "    <tr>\n",
       "      <th>timestamp</th>\n",
       "      <th></th>\n",
       "      <th></th>\n",
       "      <th></th>\n",
       "      <th></th>\n",
       "      <th></th>\n",
       "      <th></th>\n",
       "      <th></th>\n",
       "    </tr>\n",
       "  </thead>\n",
       "  <tbody>\n",
       "    <tr>\n",
       "      <th>2020-05-13 04:00:00+00:00</th>\n",
       "      <td>285.95</td>\n",
       "      <td>287.19</td>\n",
       "      <td>278.965</td>\n",
       "      <td>281.6</td>\n",
       "      <td>144809899</td>\n",
       "      <td>833463</td>\n",
       "      <td>282.59278</td>\n",
       "    </tr>\n",
       "  </tbody>\n",
       "</table>\n",
       "</div>"
      ],
      "text/plain": [
       "                             open    high      low  close     volume  \\\n",
       "timestamp                                                              \n",
       "2020-05-13 04:00:00+00:00  285.95  287.19  278.965  281.6  144809899   \n",
       "\n",
       "                           trade_count       vwap  \n",
       "timestamp                                          \n",
       "2020-05-13 04:00:00+00:00       833463  282.59278  "
      ]
     },
     "metadata": {},
     "output_type": "display_data"
    }
   ],
   "source": [
    "# Reorganize the DataFrame\n",
    "# Separate ticker data\n",
    "AGG = prices_df[prices_df['symbol']=='AGG'].drop('symbol',axis=1)\n",
    "SPY = prices_df[prices_df['symbol']=='SPY'].drop('symbol', axis=1)\n",
    "\n",
    "display(AGG,SPY)"
   ]
  },
  {
   "cell_type": "code",
   "execution_count": 21,
   "metadata": {},
   "outputs": [
    {
     "data": {
      "text/html": [
       "<div>\n",
       "<style scoped>\n",
       "    .dataframe tbody tr th:only-of-type {\n",
       "        vertical-align: middle;\n",
       "    }\n",
       "\n",
       "    .dataframe tbody tr th {\n",
       "        vertical-align: top;\n",
       "    }\n",
       "\n",
       "    .dataframe thead tr th {\n",
       "        text-align: left;\n",
       "    }\n",
       "\n",
       "    .dataframe thead tr:last-of-type th {\n",
       "        text-align: right;\n",
       "    }\n",
       "</style>\n",
       "<table border=\"1\" class=\"dataframe\">\n",
       "  <thead>\n",
       "    <tr>\n",
       "      <th></th>\n",
       "      <th colspan=\"7\" halign=\"left\">AGG</th>\n",
       "      <th colspan=\"7\" halign=\"left\">SPY</th>\n",
       "    </tr>\n",
       "    <tr>\n",
       "      <th></th>\n",
       "      <th>open</th>\n",
       "      <th>high</th>\n",
       "      <th>low</th>\n",
       "      <th>close</th>\n",
       "      <th>volume</th>\n",
       "      <th>trade_count</th>\n",
       "      <th>vwap</th>\n",
       "      <th>open</th>\n",
       "      <th>high</th>\n",
       "      <th>low</th>\n",
       "      <th>close</th>\n",
       "      <th>volume</th>\n",
       "      <th>trade_count</th>\n",
       "      <th>vwap</th>\n",
       "    </tr>\n",
       "    <tr>\n",
       "      <th>timestamp</th>\n",
       "      <th></th>\n",
       "      <th></th>\n",
       "      <th></th>\n",
       "      <th></th>\n",
       "      <th></th>\n",
       "      <th></th>\n",
       "      <th></th>\n",
       "      <th></th>\n",
       "      <th></th>\n",
       "      <th></th>\n",
       "      <th></th>\n",
       "      <th></th>\n",
       "      <th></th>\n",
       "      <th></th>\n",
       "    </tr>\n",
       "  </thead>\n",
       "  <tbody>\n",
       "    <tr>\n",
       "      <th>2020-05-13 04:00:00+00:00</th>\n",
       "      <td>116.63</td>\n",
       "      <td>116.76</td>\n",
       "      <td>116.45</td>\n",
       "      <td>116.6</td>\n",
       "      <td>4425927</td>\n",
       "      <td>16375</td>\n",
       "      <td>116.647726</td>\n",
       "      <td>285.95</td>\n",
       "      <td>287.19</td>\n",
       "      <td>278.965</td>\n",
       "      <td>281.6</td>\n",
       "      <td>144809899</td>\n",
       "      <td>833463</td>\n",
       "      <td>282.59278</td>\n",
       "    </tr>\n",
       "  </tbody>\n",
       "</table>\n",
       "</div>"
      ],
      "text/plain": [
       "                              AGG                                              \\\n",
       "                             open    high     low  close   volume trade_count   \n",
       "timestamp                                                                       \n",
       "2020-05-13 04:00:00+00:00  116.63  116.76  116.45  116.6  4425927       16375   \n",
       "\n",
       "                                          SPY                          \\\n",
       "                                 vwap    open    high      low  close   \n",
       "timestamp                                                               \n",
       "2020-05-13 04:00:00+00:00  116.647726  285.95  287.19  278.965  281.6   \n",
       "\n",
       "                                                             \n",
       "                              volume trade_count       vwap  \n",
       "timestamp                                                    \n",
       "2020-05-13 04:00:00+00:00  144809899      833463  282.59278  "
      ]
     },
     "execution_count": 21,
     "metadata": {},
     "output_type": "execute_result"
    }
   ],
   "source": [
    "# Concatenate the ticker DataFrames\n",
    "prices_df = pd.concat([AGG,SPY], axis=1, keys=['AGG','SPY'])\n",
    "\n",
    "# Review the first 5 rows of the Alpaca DataFrame\n",
    "prices_df.head()"
   ]
  },
  {
   "cell_type": "markdown",
   "metadata": {},
   "source": [
    "#### Step 5: Navigating the Alpaca response DataFrame, select the `SPY` and `AGG` closing prices, and store them as variables."
   ]
  },
  {
   "cell_type": "code",
   "execution_count": 22,
   "metadata": {},
   "outputs": [
    {
     "name": "stdout",
     "output_type": "stream",
     "text": [
      "timestamp\n",
      "2020-05-13 04:00:00+00:00    116.6\n",
      "Name: close, dtype: float64\n"
     ]
    }
   ],
   "source": [
    "# Access the closing price for AGG from the Alpaca DataFrame\n",
    "# Converting the value to a floating point number\n",
    "agg_close_price = prices_df['AGG']['close']\n",
    "\n",
    "# Print the AGG closing price\n",
    "print(agg_close_price)\n"
   ]
  },
  {
   "cell_type": "code",
   "execution_count": 23,
   "metadata": {},
   "outputs": [
    {
     "name": "stdout",
     "output_type": "stream",
     "text": [
      "timestamp\n",
      "2020-05-13 04:00:00+00:00    281.6\n",
      "Name: close, dtype: float64\n"
     ]
    }
   ],
   "source": [
    "# Access the closing price for SPY from the Alpaca DataFrame\n",
    "# Converting the value to a floating point number\n",
    "spy_close_price = prices_df['SPY']['close']\n",
    "\n",
    "# Print the SPY closing price\n",
    "print(spy_close_price)\n"
   ]
  },
  {
   "cell_type": "markdown",
   "metadata": {},
   "source": [
    "#### Step 6: Calculate the value, in US dollars, of the current amount of shares in each of the stock and bond portions of the portfolio, and print the results."
   ]
  },
  {
   "cell_type": "code",
   "execution_count": 26,
   "metadata": {},
   "outputs": [
    {
     "name": "stdout",
     "output_type": "stream",
     "text": [
      "The current values of your AGG bond portfolio is $23320.00.\n"
     ]
    }
   ],
   "source": [
    "# Calculate the current value of the bond portion of the portfolio\n",
    "agg_value = float(agg_shares * agg_close_price)\n",
    "\n",
    "# Print the current value of the bond portfolio\n",
    "print(f'The current values of your AGG bond portfolio is ${agg_value:.2f}.')\n"
   ]
  },
  {
   "cell_type": "code",
   "execution_count": 27,
   "metadata": {},
   "outputs": [
    {
     "name": "stdout",
     "output_type": "stream",
     "text": [
      "The current value of your stock portfolio is $30976.00.\n"
     ]
    }
   ],
   "source": [
    "# Calculate the current value of the stock portion of the portfolio\n",
    "spy_value = float(spy_shares * spy_close_price)\n",
    "\n",
    "# Print the current value of the stock portfolio\n",
    "print(f'The current value of your stock portfolio is ${spy_value:.2f}.')\n"
   ]
  },
  {
   "cell_type": "code",
   "execution_count": 30,
   "metadata": {},
   "outputs": [
    {
     "name": "stdout",
     "output_type": "stream",
     "text": [
      "The total balance of your stock and bond portfolios is $54296.00.\n"
     ]
    }
   ],
   "source": [
    "# Calculate the total value of the stock and bond portion of the portfolio\n",
    "total_stocks_bonds = agg_value + spy_value\n",
    "\n",
    "# Print the current balance of the stock and bond portion of the portfolio\n",
    "print(f'The total balance of your stock and bond portfolios is ${total_stocks_bonds:.2f}.')\n"
   ]
  },
  {
   "cell_type": "code",
   "execution_count": 31,
   "metadata": {},
   "outputs": [
    {
     "name": "stdout",
     "output_type": "stream",
     "text": [
      "In total, your cryptocurrency wallet and stocks and bonds have a total balance of $101120.03.\n"
     ]
    }
   ],
   "source": [
    "# Calculate the total value of the member's entire savings portfolio\n",
    "# Add the value of the cryptocurrency walled to the value of the total stocks and bonds\n",
    "total_portfolio = total_crypto_wallet + total_stocks_bonds\n",
    "\n",
    "# Print current cryptocurrency wallet and stock and bonds balances\n",
    "print(f'In total, your cryptocurrency wallet and stocks and bonds have a total balance of ${total_portfolio:.2f}.')\n"
   ]
  },
  {
   "cell_type": "markdown",
   "metadata": {},
   "source": [
    "### Evaluate the Emergency Fund\n",
    "\n",
    "In this section, you’ll use the valuations for the cryptocurrency wallet and for the stock and bond portions of the portfolio to determine if the credit union member has enough savings to build an emergency fund into their financial plan. To do this, complete the following steps:\n",
    "\n",
    "1. Create a Python list named `savings_data` that has two elements. The first element contains the total value of the cryptocurrency wallet. The second element contains the total value of the stock and bond portions of the portfolio.\n",
    "\n",
    "2. Use the `savings_data` list to create a Pandas DataFrame named `savings_df`, and then display this DataFrame. The function to create the DataFrame should take the following three parameters:\n",
    "\n",
    "    - `savings_data`: Use the list that you just created.\n",
    "\n",
    "    - `columns`: Set this parameter equal to a Python list with a single value called `amount`.\n",
    "\n",
    "    - `index`: Set this parameter equal to a Python list with the values of `crypto` and `stock/bond`.\n",
    "\n",
    "3. Use the `savings_df` DataFrame to plot a pie chart that visualizes the composition of the member’s portfolio. The y-axis of the pie chart uses `amount`. Be sure to add a title.\n",
    "\n",
    "4. Using Python, determine if the current portfolio has enough to create an emergency fund as part of the member’s financial plan. Ideally, an emergency fund should equal to three times the member’s monthly income. To do this, implement the following steps:\n",
    "\n",
    "    1. Create a variable named `emergency_fund_value`, and set it equal to three times the value of the member’s `monthly_income` of $12000. (You set this earlier in Part 1).\n",
    "\n",
    "    2. Create a series of three if statements to determine if the member’s total portfolio is large enough to fund the emergency portfolio:\n",
    "\n",
    "        1. If the total portfolio value is greater than the emergency fund value, display a message congratulating the member for having enough money in this fund.\n",
    "\n",
    "        2. Else if the total portfolio value is equal to the emergency fund value, display a message congratulating the member on reaching this important financial goal.\n",
    "\n",
    "        3. Else the total portfolio is less than the emergency fund value, so display a message showing how many dollars away the member is from reaching the goal. (Subtract the total portfolio value from the emergency fund value.)\n"
   ]
  },
  {
   "cell_type": "markdown",
   "metadata": {},
   "source": [
    "#### Step 1: Create a Python list named `savings_data` that has two elements. The first element contains the total value of the cryptocurrency wallet. The second element contains the total value of the stock and bond portions of the portfolio."
   ]
  },
  {
   "cell_type": "code",
   "execution_count": 32,
   "metadata": {},
   "outputs": [
    {
     "data": {
      "text/plain": [
       "[46824.03, 54296.0]"
      ]
     },
     "execution_count": 32,
     "metadata": {},
     "output_type": "execute_result"
    }
   ],
   "source": [
    "# Consolidate financial assets data into a Python list\n",
    "savings_data = [total_crypto_wallet,total_stocks_bonds]\n",
    "\n",
    "# Review the Python list savings_data\n",
    "savings_data\n",
    "    "
   ]
  },
  {
   "cell_type": "markdown",
   "metadata": {},
   "source": [
    "#### Step 2: Use the `savings_data` list to create a Pandas DataFrame named `savings_df`, and then display this DataFrame. The function to create the DataFrame should take the following three parameters:\n",
    "\n",
    "- `savings_data`: Use the list that you just created.\n",
    "\n",
    "- `columns`: Set this parameter equal to a Python list with a single value called `amount`.\n",
    "\n",
    "- `index`: Set this parameter equal to a Python list with the values of `crypto` and `stock/bond`.\n"
   ]
  },
  {
   "cell_type": "code",
   "execution_count": 35,
   "metadata": {},
   "outputs": [
    {
     "data": {
      "text/html": [
       "<div>\n",
       "<style scoped>\n",
       "    .dataframe tbody tr th:only-of-type {\n",
       "        vertical-align: middle;\n",
       "    }\n",
       "\n",
       "    .dataframe tbody tr th {\n",
       "        vertical-align: top;\n",
       "    }\n",
       "\n",
       "    .dataframe thead th {\n",
       "        text-align: right;\n",
       "    }\n",
       "</style>\n",
       "<table border=\"1\" class=\"dataframe\">\n",
       "  <thead>\n",
       "    <tr style=\"text-align: right;\">\n",
       "      <th></th>\n",
       "      <th>amount</th>\n",
       "    </tr>\n",
       "  </thead>\n",
       "  <tbody>\n",
       "    <tr>\n",
       "      <th>crypto</th>\n",
       "      <td>46824.03</td>\n",
       "    </tr>\n",
       "    <tr>\n",
       "      <th>stock/bond</th>\n",
       "      <td>54296.00</td>\n",
       "    </tr>\n",
       "  </tbody>\n",
       "</table>\n",
       "</div>"
      ],
      "text/plain": [
       "              amount\n",
       "crypto      46824.03\n",
       "stock/bond  54296.00"
      ]
     },
     "execution_count": 35,
     "metadata": {},
     "output_type": "execute_result"
    }
   ],
   "source": [
    "# Create a Pandas DataFrame called savings_df \n",
    "savings_df = pd.DataFrame(savings_data,columns=['amount'],index=['crypto','stock/bond'])\n",
    "\n",
    "# Display the savings_df DataFrame\n",
    "savings_df.head()\n"
   ]
  },
  {
   "cell_type": "markdown",
   "metadata": {},
   "source": [
    "#### Step 3: Use the `savings_df` DataFrame to plot a pie chart that visualizes the composition of the member’s portfolio. The y-axis of the pie chart uses `amount`. Be sure to add a title."
   ]
  },
  {
   "cell_type": "code",
   "execution_count": 36,
   "metadata": {},
   "outputs": [
    {
     "data": {
      "text/plain": [
       "<AxesSubplot:title={'center':'Your total portfolio balance (crypto and stock/bond).'}, ylabel='amount'>"
      ]
     },
     "execution_count": 36,
     "metadata": {},
     "output_type": "execute_result"
    },
    {
     "data": {
      "image/png": "[encoded data removed]",
      "text/plain": [
       "<Figure size 360x360 with 1 Axes>"
      ]
     },
     "metadata": {},
     "output_type": "display_data"
    }
   ],
   "source": [
    "# Plot the total value of the member's portfolio (crypto and stock/bond) in a pie chart\n",
    "savings_df.plot.pie(y='amount', figsize=(5,5),title='Your total portfolio balance (crypto and stock/bond).')\n"
   ]
  },
  {
   "cell_type": "markdown",
   "metadata": {},
   "source": [
    "#### Step 4: Using Python, determine if the current portfolio has enough to create an emergency fund as part of the member’s financial plan. Ideally, an emergency fund should equal to three times the member’s monthly income. To do this, implement the following steps:\n",
    "\n",
    "Step 1. Create a variable named `emergency_fund_value`, and set it equal to three times the value of the member’s `monthly_income` of 12000. (You set this earlier in Part 1).\n",
    "\n",
    "Step 2. Create a series of three if statements to determine if the member’s total portfolio is large enough to fund the emergency portfolio:\n",
    "\n",
    "* If the total portfolio value is greater than the emergency fund value, display a message congratulating the member for having enough money in this fund.\n",
    "\n",
    "* Else if the total portfolio value is equal to the emergency fund value, display a message congratulating the member on reaching this important financial goal.\n",
    "\n",
    "* Else the total portfolio is less than the emergency fund value, so display a message showing how many dollars away the member is from reaching the goal. (Subtract the total portfolio value from the emergency fund value.)\n"
   ]
  },
  {
   "cell_type": "markdown",
   "metadata": {},
   "source": [
    "##### Step 4-1: Create a variable named `emergency_fund_value`, and set it equal to three times the value of the member’s `monthly_income` of 12000. (You set this earlier in Part 1)."
   ]
  },
  {
   "cell_type": "code",
   "execution_count": 38,
   "metadata": {},
   "outputs": [
    {
     "data": {
      "text/plain": [
       "36000"
      ]
     },
     "metadata": {},
     "output_type": "display_data"
    }
   ],
   "source": [
    "# Create a variable named emergency_fund_value\n",
    "emergency_fund_value = monthly_income * 3\n",
    "display(emergency_fund_value)"
   ]
  },
  {
   "cell_type": "markdown",
   "metadata": {},
   "source": [
    "##### Step 4-2: Create a series of three if statements to determine if the member’s total portfolio is large enough to fund the emergency portfolio:\n",
    "\n",
    "* If the total portfolio value is greater than the emergency fund value, display a message congratulating the member for having enough money in this fund.\n",
    "\n",
    "* Else if the total portfolio value is equal to the emergency fund value, display a message congratulating the member on reaching this important financial goal.\n",
    "\n",
    "* Else the total portfolio is less than the emergency fund value, so display a message showing how many dollars away the member is from reaching the goal. (Subtract the total portfolio value from the emergency fund value.)"
   ]
  },
  {
   "cell_type": "code",
   "execution_count": 43,
   "metadata": {},
   "outputs": [
    {
     "name": "stdout",
     "output_type": "stream",
     "text": [
      "Congratulations! You have enough money in this fund!\n"
     ]
    }
   ],
   "source": [
    "# Evaluate the possibility of creating an emergency fund with 3 conditions:\n",
    "if total_portfolio > emergency_fund_value:\n",
    "    print('Congratulations! You have enough money in this fund!')\n",
    "elif total_portfolio == emergency_fund_value:\n",
    "    print('Congratulations! You have reached an important financial goal!')\n",
    "else:\n",
    "    print(f'There may be holes in your funds, you still need to save {emergency_fund_value - total_portfolio:.2f}.')\n",
    "\n"
   ]
  },
  {
   "cell_type": "markdown",
   "metadata": {},
   "source": [
    "## Part 2: Create a Financial Planner for Retirement"
   ]
  },
  {
   "cell_type": "markdown",
   "metadata": {},
   "source": [
    "### Create the Monte Carlo Simulation\n",
    "\n",
    "In this section, you’ll use the MCForecastTools library to create a Monte Carlo simulation for the member’s savings portfolio. To do this, complete the following steps:\n",
    "\n",
    "1. Make an API call via the Alpaca SDK to get 3 years of historical closing prices for a traditional 60/40 portfolio split: 60% stocks (SPY) and 40% bonds (AGG).\n",
    "\n",
    "2. Run a Monte Carlo simulation of 500 samples and 30 years for the 60/40 portfolio, and then plot the results.The following image shows the overlay line plot resulting from a simulation with these characteristics. However, because a random number generator is used to run each live Monte Carlo simulation, your image will differ slightly from this exact image:\n",
    "\n",
    "![A screenshot depicts the resulting plot.](Images/5-4-monte-carlo-line-plot.png)\n",
    "\n",
    "3. Plot the probability distribution of the Monte Carlo simulation. Plot the probability distribution of the Monte Carlo simulation. The following image shows the histogram plot resulting from a simulation with these characteristics. However, because a random number generator is used to run each live Monte Carlo simulation, your image will differ slightly from this exact image:\n",
    "\n",
    "![A screenshot depicts the histogram plot.](Images/5-4-monte-carlo-histogram.png)\n",
    "\n",
    "4. Generate the summary statistics for the Monte Carlo simulation.\n",
    "\n"
   ]
  },
  {
   "cell_type": "markdown",
   "metadata": {},
   "source": [
    "#### Step 1: Make an API call via the Alpaca SDK to get 3 years of historical closing prices for a traditional 60/40 portfolio split: 60% stocks (SPY) and 40% bonds (AGG)."
   ]
  },
  {
   "cell_type": "code",
   "execution_count": 50,
   "metadata": {},
   "outputs": [],
   "source": [
    "# Set start and end dates of 3 years back from your current date\n",
    "# Alternatively, you can use an end date of 2020-08-07 and work 3 years back from that date \n",
    "start_date = pd.Timestamp('2019-05-13', tz='America/New_York').isoformat()\n",
    "end_date = pd.Timestamp('2022-05-13', tz='America/New_York').isoformat()\n",
    " \n",
    "# Set number of rows to 1000 to retrieve the maximum amount of rows\n",
    "# YOUR CODE HERE"
   ]
  },
  {
   "cell_type": "code",
   "execution_count": 51,
   "metadata": {},
   "outputs": [
    {
     "data": {
      "text/html": [
       "<div>\n",
       "<style scoped>\n",
       "    .dataframe tbody tr th:only-of-type {\n",
       "        vertical-align: middle;\n",
       "    }\n",
       "\n",
       "    .dataframe tbody tr th {\n",
       "        vertical-align: top;\n",
       "    }\n",
       "\n",
       "    .dataframe thead th {\n",
       "        text-align: right;\n",
       "    }\n",
       "</style>\n",
       "<table border=\"1\" class=\"dataframe\">\n",
       "  <thead>\n",
       "    <tr style=\"text-align: right;\">\n",
       "      <th></th>\n",
       "      <th>open</th>\n",
       "      <th>high</th>\n",
       "      <th>low</th>\n",
       "      <th>close</th>\n",
       "      <th>volume</th>\n",
       "      <th>trade_count</th>\n",
       "      <th>vwap</th>\n",
       "      <th>symbol</th>\n",
       "    </tr>\n",
       "    <tr>\n",
       "      <th>timestamp</th>\n",
       "      <th></th>\n",
       "      <th></th>\n",
       "      <th></th>\n",
       "      <th></th>\n",
       "      <th></th>\n",
       "      <th></th>\n",
       "      <th></th>\n",
       "      <th></th>\n",
       "    </tr>\n",
       "  </thead>\n",
       "  <tbody>\n",
       "    <tr>\n",
       "      <th>2019-05-13 04:00:00+00:00</th>\n",
       "      <td>108.83</td>\n",
       "      <td>108.9768</td>\n",
       "      <td>108.815</td>\n",
       "      <td>108.85</td>\n",
       "      <td>6733774</td>\n",
       "      <td>18575</td>\n",
       "      <td>108.884846</td>\n",
       "      <td>AGG</td>\n",
       "    </tr>\n",
       "    <tr>\n",
       "      <th>2019-05-14 04:00:00+00:00</th>\n",
       "      <td>108.90</td>\n",
       "      <td>108.9700</td>\n",
       "      <td>108.870</td>\n",
       "      <td>108.94</td>\n",
       "      <td>6217044</td>\n",
       "      <td>21837</td>\n",
       "      <td>108.919203</td>\n",
       "      <td>AGG</td>\n",
       "    </tr>\n",
       "    <tr>\n",
       "      <th>2019-05-15 04:00:00+00:00</th>\n",
       "      <td>109.16</td>\n",
       "      <td>109.1800</td>\n",
       "      <td>109.000</td>\n",
       "      <td>109.13</td>\n",
       "      <td>2667156</td>\n",
       "      <td>12362</td>\n",
       "      <td>109.089171</td>\n",
       "      <td>AGG</td>\n",
       "    </tr>\n",
       "    <tr>\n",
       "      <th>2019-05-16 04:00:00+00:00</th>\n",
       "      <td>109.04</td>\n",
       "      <td>109.0400</td>\n",
       "      <td>108.950</td>\n",
       "      <td>109.00</td>\n",
       "      <td>2756957</td>\n",
       "      <td>9263</td>\n",
       "      <td>108.993556</td>\n",
       "      <td>AGG</td>\n",
       "    </tr>\n",
       "    <tr>\n",
       "      <th>2019-05-17 04:00:00+00:00</th>\n",
       "      <td>109.12</td>\n",
       "      <td>109.1450</td>\n",
       "      <td>108.935</td>\n",
       "      <td>109.03</td>\n",
       "      <td>2092402</td>\n",
       "      <td>7452</td>\n",
       "      <td>109.023836</td>\n",
       "      <td>AGG</td>\n",
       "    </tr>\n",
       "    <tr>\n",
       "      <th>2019-05-20 04:00:00+00:00</th>\n",
       "      <td>108.98</td>\n",
       "      <td>109.0568</td>\n",
       "      <td>108.860</td>\n",
       "      <td>108.88</td>\n",
       "      <td>2035081</td>\n",
       "      <td>9880</td>\n",
       "      <td>108.929741</td>\n",
       "      <td>AGG</td>\n",
       "    </tr>\n",
       "    <tr>\n",
       "      <th>2019-05-21 04:00:00+00:00</th>\n",
       "      <td>108.86</td>\n",
       "      <td>108.9100</td>\n",
       "      <td>108.810</td>\n",
       "      <td>108.87</td>\n",
       "      <td>2029825</td>\n",
       "      <td>10303</td>\n",
       "      <td>108.866734</td>\n",
       "      <td>AGG</td>\n",
       "    </tr>\n",
       "    <tr>\n",
       "      <th>2019-05-22 04:00:00+00:00</th>\n",
       "      <td>108.92</td>\n",
       "      <td>109.0900</td>\n",
       "      <td>108.920</td>\n",
       "      <td>109.05</td>\n",
       "      <td>3509876</td>\n",
       "      <td>16272</td>\n",
       "      <td>109.052999</td>\n",
       "      <td>AGG</td>\n",
       "    </tr>\n",
       "    <tr>\n",
       "      <th>2019-05-23 04:00:00+00:00</th>\n",
       "      <td>109.18</td>\n",
       "      <td>109.5000</td>\n",
       "      <td>109.140</td>\n",
       "      <td>109.37</td>\n",
       "      <td>4922489</td>\n",
       "      <td>21453</td>\n",
       "      <td>109.375381</td>\n",
       "      <td>AGG</td>\n",
       "    </tr>\n",
       "    <tr>\n",
       "      <th>2019-05-24 04:00:00+00:00</th>\n",
       "      <td>109.37</td>\n",
       "      <td>109.4499</td>\n",
       "      <td>109.330</td>\n",
       "      <td>109.41</td>\n",
       "      <td>2010339</td>\n",
       "      <td>9636</td>\n",
       "      <td>109.398082</td>\n",
       "      <td>AGG</td>\n",
       "    </tr>\n",
       "  </tbody>\n",
       "</table>\n",
       "</div>"
      ],
      "text/plain": [
       "                             open      high      low   close   volume  \\\n",
       "timestamp                                                               \n",
       "2019-05-13 04:00:00+00:00  108.83  108.9768  108.815  108.85  6733774   \n",
       "2019-05-14 04:00:00+00:00  108.90  108.9700  108.870  108.94  6217044   \n",
       "2019-05-15 04:00:00+00:00  109.16  109.1800  109.000  109.13  2667156   \n",
       "2019-05-16 04:00:00+00:00  109.04  109.0400  108.950  109.00  2756957   \n",
       "2019-05-17 04:00:00+00:00  109.12  109.1450  108.935  109.03  2092402   \n",
       "2019-05-20 04:00:00+00:00  108.98  109.0568  108.860  108.88  2035081   \n",
       "2019-05-21 04:00:00+00:00  108.86  108.9100  108.810  108.87  2029825   \n",
       "2019-05-22 04:00:00+00:00  108.92  109.0900  108.920  109.05  3509876   \n",
       "2019-05-23 04:00:00+00:00  109.18  109.5000  109.140  109.37  4922489   \n",
       "2019-05-24 04:00:00+00:00  109.37  109.4499  109.330  109.41  2010339   \n",
       "\n",
       "                           trade_count        vwap symbol  \n",
       "timestamp                                                  \n",
       "2019-05-13 04:00:00+00:00        18575  108.884846    AGG  \n",
       "2019-05-14 04:00:00+00:00        21837  108.919203    AGG  \n",
       "2019-05-15 04:00:00+00:00        12362  109.089171    AGG  \n",
       "2019-05-16 04:00:00+00:00         9263  108.993556    AGG  \n",
       "2019-05-17 04:00:00+00:00         7452  109.023836    AGG  \n",
       "2019-05-20 04:00:00+00:00         9880  108.929741    AGG  \n",
       "2019-05-21 04:00:00+00:00        10303  108.866734    AGG  \n",
       "2019-05-22 04:00:00+00:00        16272  109.052999    AGG  \n",
       "2019-05-23 04:00:00+00:00        21453  109.375381    AGG  \n",
       "2019-05-24 04:00:00+00:00         9636  109.398082    AGG  "
      ]
     },
     "execution_count": 51,
     "metadata": {},
     "output_type": "execute_result"
    }
   ],
   "source": [
    "# Use the Alpaca get_bars function to make the API call to get the 3 years worth of pricing data\n",
    "# The tickers and timeframe parameters should have been set in Part 1 of this activity \n",
    "# The start and end dates should be updated with the information set above\n",
    "# Remember to add the df property to the end of the call so the response is returned as a DataFrame\n",
    "long_term_prices_df = alpaca.get_bars(\n",
    "    tickers,\n",
    "    timeframe,\n",
    "    start=start_date,\n",
    "    end=end_date,\n",
    "    limit=1000\n",
    ").df\n",
    "\n",
    "long_term_prices_df.head(10)"
   ]
  },
  {
   "cell_type": "code",
   "execution_count": 52,
   "metadata": {},
   "outputs": [
    {
     "data": {
      "text/html": [
       "<div>\n",
       "<style scoped>\n",
       "    .dataframe tbody tr th:only-of-type {\n",
       "        vertical-align: middle;\n",
       "    }\n",
       "\n",
       "    .dataframe tbody tr th {\n",
       "        vertical-align: top;\n",
       "    }\n",
       "\n",
       "    .dataframe thead th {\n",
       "        text-align: right;\n",
       "    }\n",
       "</style>\n",
       "<table border=\"1\" class=\"dataframe\">\n",
       "  <thead>\n",
       "    <tr style=\"text-align: right;\">\n",
       "      <th></th>\n",
       "      <th>open</th>\n",
       "      <th>high</th>\n",
       "      <th>low</th>\n",
       "      <th>close</th>\n",
       "      <th>volume</th>\n",
       "      <th>trade_count</th>\n",
       "      <th>vwap</th>\n",
       "    </tr>\n",
       "    <tr>\n",
       "      <th>timestamp</th>\n",
       "      <th></th>\n",
       "      <th></th>\n",
       "      <th></th>\n",
       "      <th></th>\n",
       "      <th></th>\n",
       "      <th></th>\n",
       "      <th></th>\n",
       "    </tr>\n",
       "  </thead>\n",
       "  <tbody>\n",
       "    <tr>\n",
       "      <th>2019-05-13 04:00:00+00:00</th>\n",
       "      <td>108.83</td>\n",
       "      <td>108.9768</td>\n",
       "      <td>108.815</td>\n",
       "      <td>108.85</td>\n",
       "      <td>6733774</td>\n",
       "      <td>18575</td>\n",
       "      <td>108.884846</td>\n",
       "    </tr>\n",
       "    <tr>\n",
       "      <th>2019-05-14 04:00:00+00:00</th>\n",
       "      <td>108.90</td>\n",
       "      <td>108.9700</td>\n",
       "      <td>108.870</td>\n",
       "      <td>108.94</td>\n",
       "      <td>6217044</td>\n",
       "      <td>21837</td>\n",
       "      <td>108.919203</td>\n",
       "    </tr>\n",
       "    <tr>\n",
       "      <th>2019-05-15 04:00:00+00:00</th>\n",
       "      <td>109.16</td>\n",
       "      <td>109.1800</td>\n",
       "      <td>109.000</td>\n",
       "      <td>109.13</td>\n",
       "      <td>2667156</td>\n",
       "      <td>12362</td>\n",
       "      <td>109.089171</td>\n",
       "    </tr>\n",
       "    <tr>\n",
       "      <th>2019-05-16 04:00:00+00:00</th>\n",
       "      <td>109.04</td>\n",
       "      <td>109.0400</td>\n",
       "      <td>108.950</td>\n",
       "      <td>109.00</td>\n",
       "      <td>2756957</td>\n",
       "      <td>9263</td>\n",
       "      <td>108.993556</td>\n",
       "    </tr>\n",
       "    <tr>\n",
       "      <th>2019-05-17 04:00:00+00:00</th>\n",
       "      <td>109.12</td>\n",
       "      <td>109.1450</td>\n",
       "      <td>108.935</td>\n",
       "      <td>109.03</td>\n",
       "      <td>2092402</td>\n",
       "      <td>7452</td>\n",
       "      <td>109.023836</td>\n",
       "    </tr>\n",
       "    <tr>\n",
       "      <th>...</th>\n",
       "      <td>...</td>\n",
       "      <td>...</td>\n",
       "      <td>...</td>\n",
       "      <td>...</td>\n",
       "      <td>...</td>\n",
       "      <td>...</td>\n",
       "      <td>...</td>\n",
       "    </tr>\n",
       "    <tr>\n",
       "      <th>2022-05-09 04:00:00+00:00</th>\n",
       "      <td>101.54</td>\n",
       "      <td>102.1000</td>\n",
       "      <td>101.475</td>\n",
       "      <td>102.07</td>\n",
       "      <td>8548918</td>\n",
       "      <td>27200</td>\n",
       "      <td>101.812100</td>\n",
       "    </tr>\n",
       "    <tr>\n",
       "      <th>2022-05-10 04:00:00+00:00</th>\n",
       "      <td>102.50</td>\n",
       "      <td>102.7200</td>\n",
       "      <td>102.320</td>\n",
       "      <td>102.38</td>\n",
       "      <td>16565694</td>\n",
       "      <td>46588</td>\n",
       "      <td>102.531695</td>\n",
       "    </tr>\n",
       "    <tr>\n",
       "      <th>2022-05-11 04:00:00+00:00</th>\n",
       "      <td>102.07</td>\n",
       "      <td>102.7850</td>\n",
       "      <td>101.960</td>\n",
       "      <td>102.76</td>\n",
       "      <td>15079560</td>\n",
       "      <td>42508</td>\n",
       "      <td>102.530147</td>\n",
       "    </tr>\n",
       "    <tr>\n",
       "      <th>2022-05-12 04:00:00+00:00</th>\n",
       "      <td>102.94</td>\n",
       "      <td>103.1400</td>\n",
       "      <td>102.865</td>\n",
       "      <td>102.95</td>\n",
       "      <td>9011922</td>\n",
       "      <td>29535</td>\n",
       "      <td>103.014617</td>\n",
       "    </tr>\n",
       "    <tr>\n",
       "      <th>2022-05-13 04:00:00+00:00</th>\n",
       "      <td>102.75</td>\n",
       "      <td>102.7800</td>\n",
       "      <td>102.480</td>\n",
       "      <td>102.51</td>\n",
       "      <td>6701432</td>\n",
       "      <td>26730</td>\n",
       "      <td>102.590449</td>\n",
       "    </tr>\n",
       "  </tbody>\n",
       "</table>\n",
       "<p>759 rows × 7 columns</p>\n",
       "</div>"
      ],
      "text/plain": [
       "                             open      high      low   close    volume  \\\n",
       "timestamp                                                                \n",
       "2019-05-13 04:00:00+00:00  108.83  108.9768  108.815  108.85   6733774   \n",
       "2019-05-14 04:00:00+00:00  108.90  108.9700  108.870  108.94   6217044   \n",
       "2019-05-15 04:00:00+00:00  109.16  109.1800  109.000  109.13   2667156   \n",
       "2019-05-16 04:00:00+00:00  109.04  109.0400  108.950  109.00   2756957   \n",
       "2019-05-17 04:00:00+00:00  109.12  109.1450  108.935  109.03   2092402   \n",
       "...                           ...       ...      ...     ...       ...   \n",
       "2022-05-09 04:00:00+00:00  101.54  102.1000  101.475  102.07   8548918   \n",
       "2022-05-10 04:00:00+00:00  102.50  102.7200  102.320  102.38  16565694   \n",
       "2022-05-11 04:00:00+00:00  102.07  102.7850  101.960  102.76  15079560   \n",
       "2022-05-12 04:00:00+00:00  102.94  103.1400  102.865  102.95   9011922   \n",
       "2022-05-13 04:00:00+00:00  102.75  102.7800  102.480  102.51   6701432   \n",
       "\n",
       "                           trade_count        vwap  \n",
       "timestamp                                           \n",
       "2019-05-13 04:00:00+00:00        18575  108.884846  \n",
       "2019-05-14 04:00:00+00:00        21837  108.919203  \n",
       "2019-05-15 04:00:00+00:00        12362  109.089171  \n",
       "2019-05-16 04:00:00+00:00         9263  108.993556  \n",
       "2019-05-17 04:00:00+00:00         7452  109.023836  \n",
       "...                                ...         ...  \n",
       "2022-05-09 04:00:00+00:00        27200  101.812100  \n",
       "2022-05-10 04:00:00+00:00        46588  102.531695  \n",
       "2022-05-11 04:00:00+00:00        42508  102.530147  \n",
       "2022-05-12 04:00:00+00:00        29535  103.014617  \n",
       "2022-05-13 04:00:00+00:00        26730  102.590449  \n",
       "\n",
       "[759 rows x 7 columns]"
      ]
     },
     "metadata": {},
     "output_type": "display_data"
    },
    {
     "data": {
      "text/html": [
       "<div>\n",
       "<style scoped>\n",
       "    .dataframe tbody tr th:only-of-type {\n",
       "        vertical-align: middle;\n",
       "    }\n",
       "\n",
       "    .dataframe tbody tr th {\n",
       "        vertical-align: top;\n",
       "    }\n",
       "\n",
       "    .dataframe thead th {\n",
       "        text-align: right;\n",
       "    }\n",
       "</style>\n",
       "<table border=\"1\" class=\"dataframe\">\n",
       "  <thead>\n",
       "    <tr style=\"text-align: right;\">\n",
       "      <th></th>\n",
       "      <th>open</th>\n",
       "      <th>high</th>\n",
       "      <th>low</th>\n",
       "      <th>close</th>\n",
       "      <th>volume</th>\n",
       "      <th>trade_count</th>\n",
       "      <th>vwap</th>\n",
       "    </tr>\n",
       "    <tr>\n",
       "      <th>timestamp</th>\n",
       "      <th></th>\n",
       "      <th></th>\n",
       "      <th></th>\n",
       "      <th></th>\n",
       "      <th></th>\n",
       "      <th></th>\n",
       "      <th></th>\n",
       "    </tr>\n",
       "  </thead>\n",
       "  <tbody>\n",
       "    <tr>\n",
       "      <th>2019-05-13 04:00:00+00:00</th>\n",
       "      <td>282.39</td>\n",
       "      <td>283.4900</td>\n",
       "      <td>279.9300</td>\n",
       "      <td>280.86</td>\n",
       "      <td>127837979</td>\n",
       "      <td>670187</td>\n",
       "      <td>281.560182</td>\n",
       "    </tr>\n",
       "    <tr>\n",
       "      <th>2019-05-14 04:00:00+00:00</th>\n",
       "      <td>282.01</td>\n",
       "      <td>285.1000</td>\n",
       "      <td>281.8500</td>\n",
       "      <td>283.40</td>\n",
       "      <td>77106090</td>\n",
       "      <td>390251</td>\n",
       "      <td>283.609239</td>\n",
       "    </tr>\n",
       "    <tr>\n",
       "      <th>2019-05-15 04:00:00+00:00</th>\n",
       "      <td>281.60</td>\n",
       "      <td>285.7700</td>\n",
       "      <td>281.3600</td>\n",
       "      <td>285.06</td>\n",
       "      <td>75152409</td>\n",
       "      <td>364823</td>\n",
       "      <td>284.276653</td>\n",
       "    </tr>\n",
       "    <tr>\n",
       "      <th>2019-05-16 04:00:00+00:00</th>\n",
       "      <td>285.83</td>\n",
       "      <td>289.2100</td>\n",
       "      <td>285.7600</td>\n",
       "      <td>287.70</td>\n",
       "      <td>77186068</td>\n",
       "      <td>352847</td>\n",
       "      <td>287.797144</td>\n",
       "    </tr>\n",
       "    <tr>\n",
       "      <th>2019-05-17 04:00:00+00:00</th>\n",
       "      <td>285.13</td>\n",
       "      <td>288.6000</td>\n",
       "      <td>285.1207</td>\n",
       "      <td>285.84</td>\n",
       "      <td>100853024</td>\n",
       "      <td>401172</td>\n",
       "      <td>286.609816</td>\n",
       "    </tr>\n",
       "    <tr>\n",
       "      <th>...</th>\n",
       "      <td>...</td>\n",
       "      <td>...</td>\n",
       "      <td>...</td>\n",
       "      <td>...</td>\n",
       "      <td>...</td>\n",
       "      <td>...</td>\n",
       "      <td>...</td>\n",
       "    </tr>\n",
       "    <tr>\n",
       "      <th>2020-04-20 04:00:00+00:00</th>\n",
       "      <td>282.60</td>\n",
       "      <td>286.7912</td>\n",
       "      <td>281.3500</td>\n",
       "      <td>281.59</td>\n",
       "      <td>100126051</td>\n",
       "      <td>600462</td>\n",
       "      <td>283.731398</td>\n",
       "    </tr>\n",
       "    <tr>\n",
       "      <th>2020-04-21 04:00:00+00:00</th>\n",
       "      <td>276.48</td>\n",
       "      <td>278.0400</td>\n",
       "      <td>272.0200</td>\n",
       "      <td>273.04</td>\n",
       "      <td>126387834</td>\n",
       "      <td>923555</td>\n",
       "      <td>274.755324</td>\n",
       "    </tr>\n",
       "    <tr>\n",
       "      <th>2020-04-22 04:00:00+00:00</th>\n",
       "      <td>278.38</td>\n",
       "      <td>281.0000</td>\n",
       "      <td>276.9100</td>\n",
       "      <td>279.10</td>\n",
       "      <td>93527425</td>\n",
       "      <td>527780</td>\n",
       "      <td>278.482531</td>\n",
       "    </tr>\n",
       "    <tr>\n",
       "      <th>2020-04-23 04:00:00+00:00</th>\n",
       "      <td>280.46</td>\n",
       "      <td>283.9400</td>\n",
       "      <td>278.7500</td>\n",
       "      <td>279.08</td>\n",
       "      <td>104753986</td>\n",
       "      <td>688624</td>\n",
       "      <td>280.966292</td>\n",
       "    </tr>\n",
       "    <tr>\n",
       "      <th>2020-04-24 04:00:00+00:00</th>\n",
       "      <td>280.69</td>\n",
       "      <td>283.7000</td>\n",
       "      <td>278.5000</td>\n",
       "      <td>282.97</td>\n",
       "      <td>85169903</td>\n",
       "      <td>438571</td>\n",
       "      <td>281.032342</td>\n",
       "    </tr>\n",
       "  </tbody>\n",
       "</table>\n",
       "<p>241 rows × 7 columns</p>\n",
       "</div>"
      ],
      "text/plain": [
       "                             open      high       low   close     volume  \\\n",
       "timestamp                                                                  \n",
       "2019-05-13 04:00:00+00:00  282.39  283.4900  279.9300  280.86  127837979   \n",
       "2019-05-14 04:00:00+00:00  282.01  285.1000  281.8500  283.40   77106090   \n",
       "2019-05-15 04:00:00+00:00  281.60  285.7700  281.3600  285.06   75152409   \n",
       "2019-05-16 04:00:00+00:00  285.83  289.2100  285.7600  287.70   77186068   \n",
       "2019-05-17 04:00:00+00:00  285.13  288.6000  285.1207  285.84  100853024   \n",
       "...                           ...       ...       ...     ...        ...   \n",
       "2020-04-20 04:00:00+00:00  282.60  286.7912  281.3500  281.59  100126051   \n",
       "2020-04-21 04:00:00+00:00  276.48  278.0400  272.0200  273.04  126387834   \n",
       "2020-04-22 04:00:00+00:00  278.38  281.0000  276.9100  279.10   93527425   \n",
       "2020-04-23 04:00:00+00:00  280.46  283.9400  278.7500  279.08  104753986   \n",
       "2020-04-24 04:00:00+00:00  280.69  283.7000  278.5000  282.97   85169903   \n",
       "\n",
       "                           trade_count        vwap  \n",
       "timestamp                                           \n",
       "2019-05-13 04:00:00+00:00       670187  281.560182  \n",
       "2019-05-14 04:00:00+00:00       390251  283.609239  \n",
       "2019-05-15 04:00:00+00:00       364823  284.276653  \n",
       "2019-05-16 04:00:00+00:00       352847  287.797144  \n",
       "2019-05-17 04:00:00+00:00       401172  286.609816  \n",
       "...                                ...         ...  \n",
       "2020-04-20 04:00:00+00:00       600462  283.731398  \n",
       "2020-04-21 04:00:00+00:00       923555  274.755324  \n",
       "2020-04-22 04:00:00+00:00       527780  278.482531  \n",
       "2020-04-23 04:00:00+00:00       688624  280.966292  \n",
       "2020-04-24 04:00:00+00:00       438571  281.032342  \n",
       "\n",
       "[241 rows x 7 columns]"
      ]
     },
     "metadata": {},
     "output_type": "display_data"
    }
   ],
   "source": [
    "# Reorganize the DataFrame\n",
    "# Separate ticker data\n",
    "AGG_two = long_term_prices_df[long_term_prices_df['symbol']=='AGG'].drop('symbol',axis=1)\n",
    "SPY_two = long_term_prices_df[long_term_prices_df['symbol']=='SPY'].drop('symbol', axis=1)\n",
    "\n",
    "display(AGG_two,SPY_two)"
   ]
  },
  {
   "cell_type": "code",
   "execution_count": 56,
   "metadata": {},
   "outputs": [
    {
     "data": {
      "text/html": [
       "<div>\n",
       "<style scoped>\n",
       "    .dataframe tbody tr th:only-of-type {\n",
       "        vertical-align: middle;\n",
       "    }\n",
       "\n",
       "    .dataframe tbody tr th {\n",
       "        vertical-align: top;\n",
       "    }\n",
       "\n",
       "    .dataframe thead tr th {\n",
       "        text-align: left;\n",
       "    }\n",
       "\n",
       "    .dataframe thead tr:last-of-type th {\n",
       "        text-align: right;\n",
       "    }\n",
       "</style>\n",
       "<table border=\"1\" class=\"dataframe\">\n",
       "  <thead>\n",
       "    <tr>\n",
       "      <th></th>\n",
       "      <th colspan=\"7\" halign=\"left\">AGG</th>\n",
       "      <th colspan=\"7\" halign=\"left\">SPY</th>\n",
       "    </tr>\n",
       "    <tr>\n",
       "      <th></th>\n",
       "      <th>open</th>\n",
       "      <th>high</th>\n",
       "      <th>low</th>\n",
       "      <th>close</th>\n",
       "      <th>volume</th>\n",
       "      <th>trade_count</th>\n",
       "      <th>vwap</th>\n",
       "      <th>open</th>\n",
       "      <th>high</th>\n",
       "      <th>low</th>\n",
       "      <th>close</th>\n",
       "      <th>volume</th>\n",
       "      <th>trade_count</th>\n",
       "      <th>vwap</th>\n",
       "    </tr>\n",
       "    <tr>\n",
       "      <th>timestamp</th>\n",
       "      <th></th>\n",
       "      <th></th>\n",
       "      <th></th>\n",
       "      <th></th>\n",
       "      <th></th>\n",
       "      <th></th>\n",
       "      <th></th>\n",
       "      <th></th>\n",
       "      <th></th>\n",
       "      <th></th>\n",
       "      <th></th>\n",
       "      <th></th>\n",
       "      <th></th>\n",
       "      <th></th>\n",
       "    </tr>\n",
       "  </thead>\n",
       "  <tbody>\n",
       "    <tr>\n",
       "      <th>2019-05-13 04:00:00+00:00</th>\n",
       "      <td>108.83</td>\n",
       "      <td>108.9768</td>\n",
       "      <td>108.815</td>\n",
       "      <td>108.85</td>\n",
       "      <td>6733774</td>\n",
       "      <td>18575</td>\n",
       "      <td>108.884846</td>\n",
       "      <td>282.39</td>\n",
       "      <td>283.49</td>\n",
       "      <td>279.9300</td>\n",
       "      <td>280.86</td>\n",
       "      <td>127837979.0</td>\n",
       "      <td>670187.0</td>\n",
       "      <td>281.560182</td>\n",
       "    </tr>\n",
       "    <tr>\n",
       "      <th>2019-05-14 04:00:00+00:00</th>\n",
       "      <td>108.90</td>\n",
       "      <td>108.9700</td>\n",
       "      <td>108.870</td>\n",
       "      <td>108.94</td>\n",
       "      <td>6217044</td>\n",
       "      <td>21837</td>\n",
       "      <td>108.919203</td>\n",
       "      <td>282.01</td>\n",
       "      <td>285.10</td>\n",
       "      <td>281.8500</td>\n",
       "      <td>283.40</td>\n",
       "      <td>77106090.0</td>\n",
       "      <td>390251.0</td>\n",
       "      <td>283.609239</td>\n",
       "    </tr>\n",
       "    <tr>\n",
       "      <th>2019-05-15 04:00:00+00:00</th>\n",
       "      <td>109.16</td>\n",
       "      <td>109.1800</td>\n",
       "      <td>109.000</td>\n",
       "      <td>109.13</td>\n",
       "      <td>2667156</td>\n",
       "      <td>12362</td>\n",
       "      <td>109.089171</td>\n",
       "      <td>281.60</td>\n",
       "      <td>285.77</td>\n",
       "      <td>281.3600</td>\n",
       "      <td>285.06</td>\n",
       "      <td>75152409.0</td>\n",
       "      <td>364823.0</td>\n",
       "      <td>284.276653</td>\n",
       "    </tr>\n",
       "    <tr>\n",
       "      <th>2019-05-16 04:00:00+00:00</th>\n",
       "      <td>109.04</td>\n",
       "      <td>109.0400</td>\n",
       "      <td>108.950</td>\n",
       "      <td>109.00</td>\n",
       "      <td>2756957</td>\n",
       "      <td>9263</td>\n",
       "      <td>108.993556</td>\n",
       "      <td>285.83</td>\n",
       "      <td>289.21</td>\n",
       "      <td>285.7600</td>\n",
       "      <td>287.70</td>\n",
       "      <td>77186068.0</td>\n",
       "      <td>352847.0</td>\n",
       "      <td>287.797144</td>\n",
       "    </tr>\n",
       "    <tr>\n",
       "      <th>2019-05-17 04:00:00+00:00</th>\n",
       "      <td>109.12</td>\n",
       "      <td>109.1450</td>\n",
       "      <td>108.935</td>\n",
       "      <td>109.03</td>\n",
       "      <td>2092402</td>\n",
       "      <td>7452</td>\n",
       "      <td>109.023836</td>\n",
       "      <td>285.13</td>\n",
       "      <td>288.60</td>\n",
       "      <td>285.1207</td>\n",
       "      <td>285.84</td>\n",
       "      <td>100853024.0</td>\n",
       "      <td>401172.0</td>\n",
       "      <td>286.609816</td>\n",
       "    </tr>\n",
       "  </tbody>\n",
       "</table>\n",
       "</div>"
      ],
      "text/plain": [
       "                              AGG                                      \\\n",
       "                             open      high      low   close   volume   \n",
       "timestamp                                                               \n",
       "2019-05-13 04:00:00+00:00  108.83  108.9768  108.815  108.85  6733774   \n",
       "2019-05-14 04:00:00+00:00  108.90  108.9700  108.870  108.94  6217044   \n",
       "2019-05-15 04:00:00+00:00  109.16  109.1800  109.000  109.13  2667156   \n",
       "2019-05-16 04:00:00+00:00  109.04  109.0400  108.950  109.00  2756957   \n",
       "2019-05-17 04:00:00+00:00  109.12  109.1450  108.935  109.03  2092402   \n",
       "\n",
       "                                                      SPY                    \\\n",
       "                          trade_count        vwap    open    high       low   \n",
       "timestamp                                                                     \n",
       "2019-05-13 04:00:00+00:00       18575  108.884846  282.39  283.49  279.9300   \n",
       "2019-05-14 04:00:00+00:00       21837  108.919203  282.01  285.10  281.8500   \n",
       "2019-05-15 04:00:00+00:00       12362  109.089171  281.60  285.77  281.3600   \n",
       "2019-05-16 04:00:00+00:00        9263  108.993556  285.83  289.21  285.7600   \n",
       "2019-05-17 04:00:00+00:00        7452  109.023836  285.13  288.60  285.1207   \n",
       "\n",
       "                                                                        \n",
       "                            close       volume trade_count        vwap  \n",
       "timestamp                                                               \n",
       "2019-05-13 04:00:00+00:00  280.86  127837979.0    670187.0  281.560182  \n",
       "2019-05-14 04:00:00+00:00  283.40   77106090.0    390251.0  283.609239  \n",
       "2019-05-15 04:00:00+00:00  285.06   75152409.0    364823.0  284.276653  \n",
       "2019-05-16 04:00:00+00:00  287.70   77186068.0    352847.0  287.797144  \n",
       "2019-05-17 04:00:00+00:00  285.84  100853024.0    401172.0  286.609816  "
      ]
     },
     "metadata": {},
     "output_type": "display_data"
    },
    {
     "data": {
      "text/html": [
       "<div>\n",
       "<style scoped>\n",
       "    .dataframe tbody tr th:only-of-type {\n",
       "        vertical-align: middle;\n",
       "    }\n",
       "\n",
       "    .dataframe tbody tr th {\n",
       "        vertical-align: top;\n",
       "    }\n",
       "\n",
       "    .dataframe thead tr th {\n",
       "        text-align: left;\n",
       "    }\n",
       "\n",
       "    .dataframe thead tr:last-of-type th {\n",
       "        text-align: right;\n",
       "    }\n",
       "</style>\n",
       "<table border=\"1\" class=\"dataframe\">\n",
       "  <thead>\n",
       "    <tr>\n",
       "      <th></th>\n",
       "      <th colspan=\"7\" halign=\"left\">AGG</th>\n",
       "      <th colspan=\"7\" halign=\"left\">SPY</th>\n",
       "    </tr>\n",
       "    <tr>\n",
       "      <th></th>\n",
       "      <th>open</th>\n",
       "      <th>high</th>\n",
       "      <th>low</th>\n",
       "      <th>close</th>\n",
       "      <th>volume</th>\n",
       "      <th>trade_count</th>\n",
       "      <th>vwap</th>\n",
       "      <th>open</th>\n",
       "      <th>high</th>\n",
       "      <th>low</th>\n",
       "      <th>close</th>\n",
       "      <th>volume</th>\n",
       "      <th>trade_count</th>\n",
       "      <th>vwap</th>\n",
       "    </tr>\n",
       "    <tr>\n",
       "      <th>timestamp</th>\n",
       "      <th></th>\n",
       "      <th></th>\n",
       "      <th></th>\n",
       "      <th></th>\n",
       "      <th></th>\n",
       "      <th></th>\n",
       "      <th></th>\n",
       "      <th></th>\n",
       "      <th></th>\n",
       "      <th></th>\n",
       "      <th></th>\n",
       "      <th></th>\n",
       "      <th></th>\n",
       "      <th></th>\n",
       "    </tr>\n",
       "  </thead>\n",
       "  <tbody>\n",
       "    <tr>\n",
       "      <th>2021-05-17 04:00:00+00:00</th>\n",
       "      <td>114.21</td>\n",
       "      <td>115.4999</td>\n",
       "      <td>111.260</td>\n",
       "      <td>114.20</td>\n",
       "      <td>4928201</td>\n",
       "      <td>14402</td>\n",
       "      <td>114.197573</td>\n",
       "      <td>NaN</td>\n",
       "      <td>NaN</td>\n",
       "      <td>NaN</td>\n",
       "      <td>NaN</td>\n",
       "      <td>NaN</td>\n",
       "      <td>NaN</td>\n",
       "      <td>NaN</td>\n",
       "    </tr>\n",
       "    <tr>\n",
       "      <th>2021-05-18 04:00:00+00:00</th>\n",
       "      <td>114.11</td>\n",
       "      <td>114.1100</td>\n",
       "      <td>114.030</td>\n",
       "      <td>114.06</td>\n",
       "      <td>3674624</td>\n",
       "      <td>15681</td>\n",
       "      <td>114.072618</td>\n",
       "      <td>NaN</td>\n",
       "      <td>NaN</td>\n",
       "      <td>NaN</td>\n",
       "      <td>NaN</td>\n",
       "      <td>NaN</td>\n",
       "      <td>NaN</td>\n",
       "      <td>NaN</td>\n",
       "    </tr>\n",
       "    <tr>\n",
       "      <th>2021-05-19 04:00:00+00:00</th>\n",
       "      <td>114.03</td>\n",
       "      <td>114.6200</td>\n",
       "      <td>113.790</td>\n",
       "      <td>113.90</td>\n",
       "      <td>6892443</td>\n",
       "      <td>21080</td>\n",
       "      <td>113.973093</td>\n",
       "      <td>NaN</td>\n",
       "      <td>NaN</td>\n",
       "      <td>NaN</td>\n",
       "      <td>NaN</td>\n",
       "      <td>NaN</td>\n",
       "      <td>NaN</td>\n",
       "      <td>NaN</td>\n",
       "    </tr>\n",
       "    <tr>\n",
       "      <th>2021-05-20 04:00:00+00:00</th>\n",
       "      <td>114.08</td>\n",
       "      <td>114.3000</td>\n",
       "      <td>114.080</td>\n",
       "      <td>114.29</td>\n",
       "      <td>6243292</td>\n",
       "      <td>18481</td>\n",
       "      <td>114.240783</td>\n",
       "      <td>NaN</td>\n",
       "      <td>NaN</td>\n",
       "      <td>NaN</td>\n",
       "      <td>NaN</td>\n",
       "      <td>NaN</td>\n",
       "      <td>NaN</td>\n",
       "      <td>NaN</td>\n",
       "    </tr>\n",
       "    <tr>\n",
       "      <th>2021-05-21 04:00:00+00:00</th>\n",
       "      <td>114.36</td>\n",
       "      <td>114.4000</td>\n",
       "      <td>114.230</td>\n",
       "      <td>114.34</td>\n",
       "      <td>3874459</td>\n",
       "      <td>12593</td>\n",
       "      <td>114.294342</td>\n",
       "      <td>NaN</td>\n",
       "      <td>NaN</td>\n",
       "      <td>NaN</td>\n",
       "      <td>NaN</td>\n",
       "      <td>NaN</td>\n",
       "      <td>NaN</td>\n",
       "      <td>NaN</td>\n",
       "    </tr>\n",
       "    <tr>\n",
       "      <th>...</th>\n",
       "      <td>...</td>\n",
       "      <td>...</td>\n",
       "      <td>...</td>\n",
       "      <td>...</td>\n",
       "      <td>...</td>\n",
       "      <td>...</td>\n",
       "      <td>...</td>\n",
       "      <td>...</td>\n",
       "      <td>...</td>\n",
       "      <td>...</td>\n",
       "      <td>...</td>\n",
       "      <td>...</td>\n",
       "      <td>...</td>\n",
       "      <td>...</td>\n",
       "    </tr>\n",
       "    <tr>\n",
       "      <th>2022-05-09 04:00:00+00:00</th>\n",
       "      <td>101.54</td>\n",
       "      <td>102.1000</td>\n",
       "      <td>101.475</td>\n",
       "      <td>102.07</td>\n",
       "      <td>8548918</td>\n",
       "      <td>27200</td>\n",
       "      <td>101.812100</td>\n",
       "      <td>NaN</td>\n",
       "      <td>NaN</td>\n",
       "      <td>NaN</td>\n",
       "      <td>NaN</td>\n",
       "      <td>NaN</td>\n",
       "      <td>NaN</td>\n",
       "      <td>NaN</td>\n",
       "    </tr>\n",
       "    <tr>\n",
       "      <th>2022-05-10 04:00:00+00:00</th>\n",
       "      <td>102.50</td>\n",
       "      <td>102.7200</td>\n",
       "      <td>102.320</td>\n",
       "      <td>102.38</td>\n",
       "      <td>16565694</td>\n",
       "      <td>46588</td>\n",
       "      <td>102.531695</td>\n",
       "      <td>NaN</td>\n",
       "      <td>NaN</td>\n",
       "      <td>NaN</td>\n",
       "      <td>NaN</td>\n",
       "      <td>NaN</td>\n",
       "      <td>NaN</td>\n",
       "      <td>NaN</td>\n",
       "    </tr>\n",
       "    <tr>\n",
       "      <th>2022-05-11 04:00:00+00:00</th>\n",
       "      <td>102.07</td>\n",
       "      <td>102.7850</td>\n",
       "      <td>101.960</td>\n",
       "      <td>102.76</td>\n",
       "      <td>15079560</td>\n",
       "      <td>42508</td>\n",
       "      <td>102.530147</td>\n",
       "      <td>NaN</td>\n",
       "      <td>NaN</td>\n",
       "      <td>NaN</td>\n",
       "      <td>NaN</td>\n",
       "      <td>NaN</td>\n",
       "      <td>NaN</td>\n",
       "      <td>NaN</td>\n",
       "    </tr>\n",
       "    <tr>\n",
       "      <th>2022-05-12 04:00:00+00:00</th>\n",
       "      <td>102.94</td>\n",
       "      <td>103.1400</td>\n",
       "      <td>102.865</td>\n",
       "      <td>102.95</td>\n",
       "      <td>9011922</td>\n",
       "      <td>29535</td>\n",
       "      <td>103.014617</td>\n",
       "      <td>NaN</td>\n",
       "      <td>NaN</td>\n",
       "      <td>NaN</td>\n",
       "      <td>NaN</td>\n",
       "      <td>NaN</td>\n",
       "      <td>NaN</td>\n",
       "      <td>NaN</td>\n",
       "    </tr>\n",
       "    <tr>\n",
       "      <th>2022-05-13 04:00:00+00:00</th>\n",
       "      <td>102.75</td>\n",
       "      <td>102.7800</td>\n",
       "      <td>102.480</td>\n",
       "      <td>102.51</td>\n",
       "      <td>6701432</td>\n",
       "      <td>26730</td>\n",
       "      <td>102.590449</td>\n",
       "      <td>NaN</td>\n",
       "      <td>NaN</td>\n",
       "      <td>NaN</td>\n",
       "      <td>NaN</td>\n",
       "      <td>NaN</td>\n",
       "      <td>NaN</td>\n",
       "      <td>NaN</td>\n",
       "    </tr>\n",
       "  </tbody>\n",
       "</table>\n",
       "<p>252 rows × 14 columns</p>\n",
       "</div>"
      ],
      "text/plain": [
       "                              AGG                                       \\\n",
       "                             open      high      low   close    volume   \n",
       "timestamp                                                                \n",
       "2021-05-17 04:00:00+00:00  114.21  115.4999  111.260  114.20   4928201   \n",
       "2021-05-18 04:00:00+00:00  114.11  114.1100  114.030  114.06   3674624   \n",
       "2021-05-19 04:00:00+00:00  114.03  114.6200  113.790  113.90   6892443   \n",
       "2021-05-20 04:00:00+00:00  114.08  114.3000  114.080  114.29   6243292   \n",
       "2021-05-21 04:00:00+00:00  114.36  114.4000  114.230  114.34   3874459   \n",
       "...                           ...       ...      ...     ...       ...   \n",
       "2022-05-09 04:00:00+00:00  101.54  102.1000  101.475  102.07   8548918   \n",
       "2022-05-10 04:00:00+00:00  102.50  102.7200  102.320  102.38  16565694   \n",
       "2022-05-11 04:00:00+00:00  102.07  102.7850  101.960  102.76  15079560   \n",
       "2022-05-12 04:00:00+00:00  102.94  103.1400  102.865  102.95   9011922   \n",
       "2022-05-13 04:00:00+00:00  102.75  102.7800  102.480  102.51   6701432   \n",
       "\n",
       "                                                   SPY                        \\\n",
       "                          trade_count        vwap open high low close volume   \n",
       "timestamp                                                                      \n",
       "2021-05-17 04:00:00+00:00       14402  114.197573  NaN  NaN NaN   NaN    NaN   \n",
       "2021-05-18 04:00:00+00:00       15681  114.072618  NaN  NaN NaN   NaN    NaN   \n",
       "2021-05-19 04:00:00+00:00       21080  113.973093  NaN  NaN NaN   NaN    NaN   \n",
       "2021-05-20 04:00:00+00:00       18481  114.240783  NaN  NaN NaN   NaN    NaN   \n",
       "2021-05-21 04:00:00+00:00       12593  114.294342  NaN  NaN NaN   NaN    NaN   \n",
       "...                               ...         ...  ...  ...  ..   ...    ...   \n",
       "2022-05-09 04:00:00+00:00       27200  101.812100  NaN  NaN NaN   NaN    NaN   \n",
       "2022-05-10 04:00:00+00:00       46588  102.531695  NaN  NaN NaN   NaN    NaN   \n",
       "2022-05-11 04:00:00+00:00       42508  102.530147  NaN  NaN NaN   NaN    NaN   \n",
       "2022-05-12 04:00:00+00:00       29535  103.014617  NaN  NaN NaN   NaN    NaN   \n",
       "2022-05-13 04:00:00+00:00       26730  102.590449  NaN  NaN NaN   NaN    NaN   \n",
       "\n",
       "                                            \n",
       "                          trade_count vwap  \n",
       "timestamp                                   \n",
       "2021-05-17 04:00:00+00:00         NaN  NaN  \n",
       "2021-05-18 04:00:00+00:00         NaN  NaN  \n",
       "2021-05-19 04:00:00+00:00         NaN  NaN  \n",
       "2021-05-20 04:00:00+00:00         NaN  NaN  \n",
       "2021-05-21 04:00:00+00:00         NaN  NaN  \n",
       "...                               ...  ...  \n",
       "2022-05-09 04:00:00+00:00         NaN  NaN  \n",
       "2022-05-10 04:00:00+00:00         NaN  NaN  \n",
       "2022-05-11 04:00:00+00:00         NaN  NaN  \n",
       "2022-05-12 04:00:00+00:00         NaN  NaN  \n",
       "2022-05-13 04:00:00+00:00         NaN  NaN  \n",
       "\n",
       "[252 rows x 14 columns]"
      ]
     },
     "metadata": {},
     "output_type": "display_data"
    }
   ],
   "source": [
    "# Concatenate the ticker DataFrames\n",
    "long_term_prices_df = pd.concat([AGG_two,SPY_two], axis=1, keys=['AGG','SPY'])\n",
    "\n",
    "# Display both the first and last five rows of the DataFrame\n",
    "display(long_term_prices_df.head(),long_term_prices_df.tail(252))\n",
    "# YOUR CODE HERE"
   ]
  },
  {
   "cell_type": "markdown",
   "metadata": {},
   "source": [
    "#### Step 2: Run a Monte Carlo simulation of 500 samples and 30 years for the 60/40 portfolio, and then plot the results."
   ]
  },
  {
   "cell_type": "code",
   "execution_count": null,
   "metadata": {},
   "outputs": [],
   "source": [
    "# Configure the Monte Carlo simulation to forecast 30 years cumulative returns\n",
    "# The weights should be split 40% to AGG and 60% to SPY.\n",
    "# Run 500 samples.\n",
    "# YOUR CODE HERE\n",
    "\n",
    "# Review the simulation input data\n",
    "# YOUR CODE HERE\n"
   ]
  },
  {
   "cell_type": "code",
   "execution_count": null,
   "metadata": {},
   "outputs": [],
   "source": [
    "# Run the Monte Carlo simulation to forecast 30 years cumulative returns\n",
    "# YOUR CODE HERE\n"
   ]
  },
  {
   "cell_type": "code",
   "execution_count": null,
   "metadata": {},
   "outputs": [],
   "source": [
    "# Visualize the 30-year Monte Carlo simulation by creating an\n",
    "# overlay line plot\n",
    "# YOUR CODE HERE\n"
   ]
  },
  {
   "cell_type": "markdown",
   "metadata": {},
   "source": [
    "#### Step 3: Plot the probability distribution of the Monte Carlo simulation."
   ]
  },
  {
   "cell_type": "code",
   "execution_count": null,
   "metadata": {},
   "outputs": [],
   "source": [
    "# Visualize the probability distribution of the 30-year Monte Carlo simulation \n",
    "# by plotting a histogram\n",
    "# YOUR CODE HERE\n"
   ]
  },
  {
   "cell_type": "markdown",
   "metadata": {},
   "source": [
    "#### Step 4: Generate the summary statistics for the Monte Carlo simulation."
   ]
  },
  {
   "cell_type": "code",
   "execution_count": null,
   "metadata": {},
   "outputs": [],
   "source": [
    "# Generate summary statistics from the 30-year Monte Carlo simulation results\n",
    "# Save the results as a variable\n",
    "# YOUR CODE HERE\n",
    "\n",
    "\n",
    "# Review the 30-year Monte Carlo summary statistics\n",
    "# YOUR CODE HERE"
   ]
  },
  {
   "cell_type": "markdown",
   "metadata": {},
   "source": [
    "### Analyze the Retirement Portfolio Forecasts\n",
    "\n",
    "Using the current value of only the stock and bond portion of the member's portfolio and the summary statistics that you generated from the Monte Carlo simulation, answer the following question in your Jupyter notebook:\n",
    "\n",
    "-  What are the lower and upper bounds for the expected value of the portfolio with a 95% confidence interval?\n"
   ]
  },
  {
   "cell_type": "code",
   "execution_count": null,
   "metadata": {},
   "outputs": [],
   "source": [
    "# Print the current balance of the stock and bond portion of the members portfolio\n",
    "# YOUR CODE HERE\n"
   ]
  },
  {
   "cell_type": "code",
   "execution_count": null,
   "metadata": {},
   "outputs": [],
   "source": [
    "# Use the lower and upper `95%` confidence intervals to calculate the range of the possible outcomes for the current stock/bond portfolio\n",
    "ci_lower_thirty_cumulative_return = # YOUR CODE HERE\n",
    "ci_upper_thirty_cumulative_return = # YOUR CODE HERE\n",
    "\n",
    "# Print the result of your calculations\n",
    "# YOUR CODE HERE\n"
   ]
  },
  {
   "cell_type": "markdown",
   "metadata": {},
   "source": [
    "### Forecast Cumulative Returns in 10 Years\n",
    "\n",
    "The CTO of the credit union is impressed with your work on these planning tools but wonders if 30 years is a long time to wait until retirement. So, your next task is to adjust the retirement portfolio and run a new Monte Carlo simulation to find out if the changes will allow members to retire earlier.\n",
    "\n",
    "For this new Monte Carlo simulation, do the following: \n",
    "\n",
    "- Forecast the cumulative returns for 10 years from now. Because of the shortened investment horizon (30 years to 10 years), the portfolio needs to invest more heavily in the riskier asset&mdash;that is, stock&mdash;to help accumulate wealth for retirement. \n",
    "\n",
    "- Adjust the weights of the retirement portfolio so that the composition for the Monte Carlo simulation consists of 20% bonds and 80% stocks. \n",
    "\n",
    "- Run the simulation over 500 samples, and use the same data that the API call to Alpaca generated.\n",
    "\n",
    "- Based on the new Monte Carlo simulation, answer the following questions in your Jupyter notebook:\n",
    "\n",
    "    - Using the current value of only the stock and bond portion of the member's portfolio and the summary statistics that you generated from the new Monte Carlo simulation, what are the lower and upper bounds for the expected value of the portfolio (with the new weights) with a 95% confidence interval?\n",
    "\n",
    "    - Will weighting the portfolio more heavily toward stocks allow the credit union members to retire after only 10 years?\n"
   ]
  },
  {
   "cell_type": "code",
   "execution_count": null,
   "metadata": {},
   "outputs": [],
   "source": [
    "# Configure a Monte Carlo simulation to forecast 10 years cumulative returns\n",
    "# The weights should be split 20% to AGG and 80% to SPY.\n",
    "# Run 500 samples.\n",
    "# YOUR CODE HERE\n",
    "\n",
    "# Review the simulation input data\n",
    "# YOUR CODE HERE\n"
   ]
  },
  {
   "cell_type": "code",
   "execution_count": null,
   "metadata": {},
   "outputs": [],
   "source": [
    "# Run the Monte Carlo simulation to forecast 10 years cumulative returns\n",
    "# YOUR CODE HERE\n"
   ]
  },
  {
   "cell_type": "code",
   "execution_count": null,
   "metadata": {},
   "outputs": [],
   "source": [
    "# Visualize the 10-year Monte Carlo simulation by creating an\n",
    "# overlay line plot\n",
    "# YOUR CODE HERE\n"
   ]
  },
  {
   "cell_type": "code",
   "execution_count": null,
   "metadata": {},
   "outputs": [],
   "source": [
    "# Visualize the probability distribution of the 10-year Monte Carlo simulation \n",
    "# by plotting a histogram\n",
    "# YOUR CODE HERE\n"
   ]
  },
  {
   "cell_type": "code",
   "execution_count": null,
   "metadata": {},
   "outputs": [],
   "source": [
    "# Generate summary statistics from the 10-year Monte Carlo simulation results\n",
    "# Save the results as a variable\n",
    "# YOUR CODE HERE\n",
    "\n",
    "\n",
    "# Review the 10-year Monte Carlo summary statistics\n",
    "# YOUR CODE HERE"
   ]
  },
  {
   "cell_type": "markdown",
   "metadata": {},
   "source": [
    "### Answer the following questions:"
   ]
  },
  {
   "cell_type": "markdown",
   "metadata": {},
   "source": [
    "#### Question: Using the current value of only the stock and bond portion of the member's portfolio and the summary statistics that you generated from the new Monte Carlo simulation, what are the lower and upper bounds for the expected value of the portfolio (with the new weights) with a 95% confidence interval?"
   ]
  },
  {
   "cell_type": "code",
   "execution_count": null,
   "metadata": {},
   "outputs": [],
   "source": [
    "# Print the current balance of the stock and bond portion of the members portfolio\n",
    "# YOUR CODE HERE\n"
   ]
  },
  {
   "cell_type": "code",
   "execution_count": null,
   "metadata": {},
   "outputs": [],
   "source": [
    "# Use the lower and upper `95%` confidence intervals to calculate the range of the possible outcomes for the current stock/bond portfolio\n",
    "ci_lower_ten_cumulative_return = # YOUR CODE HERE\n",
    "ci_upper_ten_cumulative_return = # YOUR CODE HERE\n",
    "\n",
    "# Print the result of your calculations\n",
    "# YOUR CODE HERE\n"
   ]
  },
  {
   "cell_type": "markdown",
   "metadata": {},
   "source": [
    "#### Question: Will weighting the portfolio more heavily to stocks allow the credit union members to retire after only 10 years?"
   ]
  },
  {
   "cell_type": "raw",
   "metadata": {},
   "source": [
    "**Answer** # YOUR ANSWER HERE"
   ]
  },
  {
   "cell_type": "code",
   "execution_count": null,
   "metadata": {},
   "outputs": [],
   "source": []
  }
 ],
 "metadata": {
  "kernelspec": {
   "display_name": "Python 3 (ipykernel)",
   "language": "python",
   "name": "python3"
  },
  "language_info": {
   "codemirror_mode": {
    "name": "ipython",
    "version": 3
   },
   "file_extension": ".py",
   "mimetype": "text/x-python",
   "name": "python",
   "nbconvert_exporter": "python",
   "pygments_lexer": "ipython3",
   "version": "3.7.11"
  }
 },
 "nbformat": 4,
 "nbformat_minor": 4
}
